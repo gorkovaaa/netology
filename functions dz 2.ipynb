{
 "cells": [
  {
   "cell_type": "code",
   "execution_count": 3,
   "metadata": {},
   "outputs": [
    {
     "name": "stdout",
     "output_type": "stream",
     "text": [
      "Введите число10006\n",
      "Аристарх Павлов\n"
     ]
    }
   ],
   "source": [
    "#перечень всех документов\n",
    "\n",
    "documents = [\n",
    " {'type': 'passport', 'number': '2207 876234', 'name': 'Василий Гупкин'},\n",
    " {'type': 'invoice', 'number': '11-2', 'name': 'Геннадий Покемонов'},\n",
    " {'type': 'insurance', 'number': '10006', 'name': 'Аристарх Павлов'}\n",
    "]\n",
    "\n",
    "#перечень полок, на которых хранятся документы (если документ есть в documents, то он обязательно должен быть и в directories)\n",
    "\n",
    "directories = {\n",
    " '1': ['2207 876234', '11-2'],\n",
    " '2': ['10006'],\n",
    " '3': []\n",
    "}\n",
    "\n",
    "# Пользователь по команде \"fio\" может узнать владельца документа по его номеру\n",
    "\n",
    "def fio( ):\n",
    "    k=input('Введите число')\n",
    "    for i in documents:\n",
    "        if i['number']==k:\n",
    "            fio=i['name']\n",
    "            break\n",
    "        else:\n",
    "            fio='не найден'  \n",
    "    print(fio)    \n",
    "\n",
    "\n",
    "fio( )\n",
    "            \n",
    "           \n",
    "            \n",
    "        \n"
   ]
  },
  {
   "cell_type": "code",
   "execution_count": 70,
   "metadata": {},
   "outputs": [
    {
     "name": "stdout",
     "output_type": "stream",
     "text": [
      "Введите номер документа10006\n",
      "2\n"
     ]
    }
   ],
   "source": [
    "#перечень всех документов\n",
    "\n",
    "documents = [\n",
    " {'type': 'passport', 'number': '2207 876234', 'name': 'Василий Гупкин'},\n",
    " {'type': 'invoice', 'number': '11-2', 'name': 'Геннадий Покемонов'},\n",
    " {'type': 'insurance', 'number': '10006', 'name': 'Аристарх Павлов'}\n",
    "]\n",
    "\n",
    "#перечень полок, на которых хранятся документы (если документ есть в documents, то он обязательно должен быть и в directories)\n",
    "\n",
    "directories = {\n",
    " '1': ['2207 876234', '11-2'],\n",
    " '2': ['10006'],\n",
    " '3': []\n",
    "}\n",
    "\n",
    "#Пользователь по команде \"p\" может по номеру документа узнать на какой полке он хранится\n",
    "\n",
    "def p( ):\n",
    "    k=input('Введите номер документа')\n",
    "    for key,values in directories.items():\n",
    "         for i in values:\n",
    "            if i==k:\n",
    "                polka=key\n",
    "                break\n",
    "            else:\n",
    "                polka='не найден'\n",
    "    print(polka)\n",
    "                \n",
    "p( )               \n",
    "    "
   ]
  },
  {
   "cell_type": "code",
   "execution_count": 138,
   "metadata": {},
   "outputs": [
    {
     "name": "stdout",
     "output_type": "stream",
     "text": [
      "тип: passport номер: 2207 876234 имя: Василий Гупкин полка хранения: 1\n",
      "тип: invoice номер: 11-2 имя: Геннадий Покемонов полка хранения: 1\n",
      "тип: insurance номер: 10006 имя: Аристарх Павлов полка хранения: 2\n"
     ]
    }
   ],
   "source": [
    "#перечень всех документов\n",
    "\n",
    "documents = [\n",
    " {'type': 'passport', 'number': '2207 876234', 'name': 'Василий Гупкин'},\n",
    " {'type': 'invoice', 'number': '11-2', 'name': 'Геннадий Покемонов'},\n",
    " {'type': 'insurance', 'number': '10006', 'name': 'Аристарх Павлов'}\n",
    "]\n",
    "\n",
    "#перечень полок, на которых хранятся документы (если документ есть в documents, то он обязательно должен быть и в directories)\n",
    "\n",
    "directories = {\n",
    " '1': ['2207 876234', '11-2'],\n",
    " '2': ['10006'],\n",
    " '3': []\n",
    "}\n",
    "\n",
    "# Пользователь по команде \"l\" может увидеть полную информацию по всем документам\n",
    "\n",
    "def l():\n",
    "    for i in documents:\n",
    "        tp=i['type']\n",
    "        nm=i['number']\n",
    "        nam=i['name']\n",
    "        for key,values in directories.items():\n",
    "            if i['number'] in values:\n",
    "                x=key\n",
    "        print('тип:',tp, 'номер:', nm, 'имя:', nam,'полка хранения:',x)\n",
    "    \n",
    "l( )    \n",
    "    \n",
    "    \n",
    "\n",
    "             \n",
    " \n"
   ]
  },
  {
   "cell_type": "code",
   "execution_count": 6,
   "metadata": {},
   "outputs": [
    {
     "name": "stdout",
     "output_type": "stream",
     "text": [
      "Введите номер полки: 5\n",
      "Введите номер нового документа: 45678\n",
      "нет введенной полки, есть полки:\n",
      "1\n",
      "2\n",
      "3\n"
     ]
    }
   ],
   "source": [
    "#перечень всех документов\n",
    "\n",
    "documents = [\n",
    " {'type': 'passport', 'number': '2207 876234', 'name': 'Василий Гупкин'},\n",
    " {'type': 'invoice', 'number': '11-2', 'name': 'Геннадий Покемонов'},\n",
    " {'type': 'insurance', 'number': '10006', 'name': 'Аристарх Павлов'}\n",
    "]\n",
    "\n",
    "#перечень полок, на которых хранятся документы (если документ есть в documents, то он обязательно должен быть и в directories)\n",
    "\n",
    "directories = {\n",
    " '1': ['2207 876234', '11-2'],\n",
    " '2': ['10006'],\n",
    " '3': []\n",
    "}\n",
    "#Пользователь по команде \"ads\" может добавить новую полку\n",
    "\n",
    "def ads( ):\n",
    "         \n",
    "            \n",
    "    shelf = input('Введите номер полки: ')\n",
    "    doc_number = input('Введите номер нового документа: ')\n",
    "    if shelf not in directories.keys():\n",
    "            print('нет введенной полки, есть полки:')\n",
    "            for key in directories:\n",
    "                print(key)\n",
    "            return \n",
    "    for doc in directories.items():\n",
    "            if doc[0] == shelf:\n",
    "                doc[1].append(doc_number)          \n",
    "    print(directories)\n",
    "            \n",
    "ads()            "
   ]
  },
  {
   "cell_type": "code",
   "execution_count": null,
   "metadata": {},
   "outputs": [],
   "source": [
    "#перечень всех документов\n",
    "\n",
    "documents = [\n",
    " {'type': 'passport', 'number': '2207 876234', 'name': 'Василий Гупкин'},\n",
    " {'type': 'invoice', 'number': '11-2', 'name': 'Геннадий Покемонов'},\n",
    " {'type': 'insurance', 'number': '10006', 'name': 'Аристарх Павлов'}\n",
    "]\n",
    "\n",
    "#перечень полок, на которых хранятся документы (если документ есть в documents, то он обязательно должен быть и в directories)\n",
    "\n",
    "directories = {\n",
    " '1': ['2207 876234', '11-2'],\n",
    " '2': ['10006'],\n",
    " '3': []\n",
    "} \n",
    "#Пользователь по команде \"ds\" может удалить существующую полку из данных (только если она пустая)\n",
    "\n",
    "def ds():\n",
    "    user_input2=str(input('введите номер полки '))\n",
    "    text='полка не пустая'\n",
    "    for key,values in directories.items():\n",
    "        if key==user_input2 and  values==[ ]:\n",
    "            text='полка удалена'\n",
    "            del(directories[user_input2])\n",
    "            break\n",
    "        \n",
    "    print(text)\n",
    "\n",
    "    \n",
    "ds()\n",
    "\n",
    "\n",
    "\n"
   ]
  }
 ],
 "metadata": {
  "kernelspec": {
   "display_name": "Python 3",
   "language": "python",
   "name": "python3"
  },
  "language_info": {
   "codemirror_mode": {
    "name": "ipython",
    "version": 3
   },
   "file_extension": ".py",
   "mimetype": "text/x-python",
   "name": "python",
   "nbconvert_exporter": "python",
   "pygments_lexer": "ipython3",
   "version": "3.7.6"
  }
 },
 "nbformat": 4,
 "nbformat_minor": 4
}
