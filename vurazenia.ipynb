{
 "cells": [
  {
   "cell_type": "markdown",
   "metadata": {},
   "source": [
    "Задание 1.\n",
    "Напишите функцию, которая принимает на вход строку и проверяет является ли она валидным транспортным номером. Если да, то функция должна возвращать отдельно номер и регион."
   ]
  },
  {
   "cell_type": "code",
   "execution_count": 19,
   "metadata": {},
   "outputs": [
    {
     "name": "stdout",
     "output_type": "stream",
     "text": [
      "А123АА7\n",
      "Не правильный номер\n"
     ]
    }
   ],
   "source": [
    "import re\n",
    "number=input()\n",
    "if len(number)==8:\n",
    "    result = re.match(r'[А-Я]{1}\\d{3}[А-Я]{2}\\d{2}', number)\n",
    "    result\n",
    "    print((number[0:6],number[6:9]) if result else 'Не правильный номер')\n",
    "else:\n",
    "    if len(number)==9:\n",
    "        result = re.match(r'[А-Я]{1}\\d{3}[А-Я]{2}\\d{3}', number)\n",
    "        result\n",
    "        print((number[0:6],number[6:9]) if result else 'Не правильный номер')\n",
    "    else:\n",
    "        print('Не правильный номер')\n",
    "    "
   ]
  },
  {
   "cell_type": "markdown",
   "metadata": {},
   "source": [
    "Задание 2.\n",
    "Постарайтесь написать (в крайнем случае найти) самый полный шаблон для проверки e-mail адресов через регулярное выражение, которая проверяет e-mail адрес на валидность. \n",
    "Можно руководствоваться следующими минимальными требованиями:\n",
    "• адрес должен содержать специальный символ “@”, который отделяет имя пользователя почтовой системы от доменного имени;\n",
    "• адрес не должен содержать следующие символы: “пробел”, “,”, “:”, “;”, “!”, “#”, “%”, “*”, “(”, “)”, “=”, “+”, “{”, “}”, \" \" \", \" ’ \", \" / \", \" \\ \" и “|”;\n",
    "• адрес должен состоять только из латинских символов;\n",
    "• после символа “@” должна быть как минимум одна “.”;\n",
    "• после последней точки должно быть не менее 2-х и не более 4-х символов, причем наличие цифр не допускается;\n",
    "• между последней точкой и символом “@” должно быть не менее 2-х символов\n",
    "• слева от “@” должно быть не менее четырех символов"
   ]
  },
  {
   "cell_type": "code",
   "execution_count": 20,
   "metadata": {},
   "outputs": [
    {
     "name": "stdout",
     "output_type": "stream",
     "text": [
      "afaa@afas.ru\n",
      "Валидный адрес\n"
     ]
    }
   ],
   "source": [
    "import re\n",
    "email=input()\n",
    "result = re.match(r'(^|\\s)[-a-z0-9_.]+@([-a-z0-9]+\\.)+[a-z]{2,6}(\\s|$)', email)\n",
    "result\n",
    "print('Валидный адрес' if result else 'Не правильный адрес')"
   ]
  },
  {
   "cell_type": "markdown",
   "metadata": {},
   "source": [
    "Задание 3. \n",
    "Напишите функцию, которая будет удалять все последовательные повторы слов из заданной строки при помощи регулярных выражений."
   ]
  },
  {
   "cell_type": "code",
   "execution_count": 21,
   "metadata": {},
   "outputs": [
    {
     "name": "stdout",
     "output_type": "stream",
     "text": [
      "кто в теремочке живет кто семечки грызет\n"
     ]
    }
   ],
   "source": [
    "import re\n",
    "s = \"кто кто в теремочке живет, кто семечки семечки грызет\"\n",
    "print( re.sub(r'\\b([^\\W\\d_]+)(\\s+\\1)+\\b', r'\\1', re.sub(r'\\W+', ' ', s).strip(), flags=re.I) )"
   ]
  },
  {
   "cell_type": "markdown",
   "metadata": {},
   "source": [
    "Задание 4.\n",
    "Напишите функцию, которая будет проверять номер сотового телефона на валидность, если он валиден, то переводить его в формат:\n",
    "+7(xxx)-xxx-xx-xx\n",
    "\n",
    "Постарайтесь предусмотреть как можно больше адекватных форматов изначального ввода номера. Примеры валидных форматов:\n",
    "\n",
    "• +7 955 555-55-55;\n",
    "• 9555555555;\n",
    "• 8(955)555-55-55;\n",
    "• +7 955 555 55 55;\n",
    "• 7(955) 555-55-55;\n",
    "• +7 955+555+55+55."
   ]
  },
  {
   "cell_type": "code",
   "execution_count": 15,
   "metadata": {},
   "outputs": [
    {
     "name": "stdout",
     "output_type": "stream",
     "text": [
      "+7 855 555-33-44;\n",
      "78555553344\n",
      "не правильно набран номер\n"
     ]
    }
   ],
   "source": [
    "import re\n",
    "Phone_number=input()\n",
    "Phone_number_clean=re.sub(r'\\D', '', Phone_number).strip()\n",
    "print(Phone_number_clean)\n",
    "if len(Phone_number_clean)==10 and Phone_number_clean[0]==9:\n",
    "    Phone_number_clean=str(Phone_number_clean)\n",
    "    Phone_number='+7('+Phone_number_clean[0:3]+')-'+Phone_number_clean[3:6]+'-'+Phone_number_clean[6:8]+'-'+Phone_number_clean[8:10]\n",
    "    print(Phone_number)\n",
    "elif len(Phone_number_clean)==11 and int(Phone_number_clean[0]) in range(7,8) and int(Phone_number_clean[1])==9:\n",
    "    Phone_number='+7('+Phone_number_clean[1:4]+')-'+Phone_number_clean[4:7]+'-'+Phone_number_clean[7:9]+'-'+Phone_number_clean[9:11]\n",
    "    print(Phone_number)\n",
    "else:\n",
    "    print('не правильно набран номер')  "
   ]
  }
 ],
 "metadata": {
  "kernelspec": {
   "display_name": "Python 3",
   "language": "python",
   "name": "python3"
  },
  "language_info": {
   "codemirror_mode": {
    "name": "ipython",
    "version": 3
   },
   "file_extension": ".py",
   "mimetype": "text/x-python",
   "name": "python",
   "nbconvert_exporter": "python",
   "pygments_lexer": "ipython3",
   "version": "3.7.6"
  }
 },
 "nbformat": 4,
 "nbformat_minor": 4
}
