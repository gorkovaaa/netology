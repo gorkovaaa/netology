{
 "cells": [
  {
   "cell_type": "code",
   "execution_count": 4,
   "metadata": {},
   "outputs": [
    {
     "name": "stdout",
     "output_type": "stream",
     "text": [
      "es\n"
     ]
    }
   ],
   "source": [
    "\"\"\"Задание 1\n",
    "\n",
    "Дана переменная, в которой хранится слово из латинских букв. Напишите код, который выводит на экран:\n",
    "\n",
    "    среднюю букву, если число букв в слове нечетное;\n",
    "    две средних буквы, если число букв четное.\n",
    "\n",
    "Примеры работы программы:\n",
    "\n",
    "    word = 'test'\n",
    "\n",
    "Результат:\n",
    "es\n",
    "\n",
    "    word = 'testing'\n",
    "\n",
    "Результат:\n",
    "t\"\"\"\"\"\n",
    "\n",
    "import math\n",
    "word='test'\n",
    "length=len(word)\n",
    "x=int(length/2)-1\n",
    "y=int(length/2)+1\n",
    "z=int(math.floor(length/2))\n",
    "if length% 2 == 0:\n",
    "    print(word[x:y])\n",
    "else:\n",
    "    print(word[z])\n"
   ]
  },
  {
   "cell_type": "code",
   "execution_count": 3,
   "metadata": {},
   "outputs": [
    {
     "name": "stdout",
     "output_type": "stream",
     "text": [
      "Введите число5\n",
      "Введите число3\n",
      "Введите число0\n",
      "8\n"
     ]
    }
   ],
   "source": [
    "\"\"\"\"Напишите программу, которая последовательно запрашивает у пользователя числа (по одному за раз)\n",
    "и после первого нуля выводит сумму всех ранее введенных чисел.\n",
    "\n",
    "Примеры работы программы:\n",
    "\n",
    "Введите число:  \n",
    "1\n",
    "\n",
    "Введите число:  \n",
    "4\n",
    "\n",
    "Введите число:  \n",
    "6\n",
    "\n",
    "Введите число:  \n",
    "0\n",
    "\n",
    "Результат:\n",
    "11\n",
    "\n",
    "Введите число:  \n",
    "0\n",
    "\n",
    "Результат:\n",
    "0\"\"\"\n",
    "\n",
    "\n",
    "sum = 0\n",
    "while True:\n",
    "    n = int(input('Введите число'))\n",
    "    if n == 0: break\n",
    "    sum += n\n",
    "print(sum)\n"
   ]
  },
  {
   "cell_type": "code",
   "execution_count": 2,
   "metadata": {},
   "outputs": [
    {
     "name": "stdout",
     "output_type": "stream",
     "text": [
      "Идеальные пары\n",
      "Alex  &  Emma\n",
      "Arthur  &  Kate\n",
      "John  &  Kira\n",
      "Peter  &  Liza\n",
      "Richard  &  Trisha\n"
     ]
    }
   ],
   "source": [
    "\n",
    "\"\"\"\"Задание 3\n",
    "\n",
    "Мы делаем MVP dating-сервиса, и у нас есть список парней и девушек.\n",
    "Выдвигаем гипотезу: лучшие рекомендации мы получим, если просто отсортируем имена по алфавиту и познакомим людей с одинаковыми индексами после сортировки! Но мы не будем никого знакомить, если кто-то может остаться без пары:\n",
    "\n",
    "Примеры работы программы:\n",
    "\n",
    "boys = ['Peter', 'Alex', 'John', 'Arthur', 'Richard']\n",
    "girls = ['Kate', 'Liza', 'Kira', 'Emma', 'Trisha']\n",
    "\n",
    "Результат:\n",
    "\n",
    "Идеальные пары:  \n",
    "Alex и Emma  \n",
    "Arthur и Kate  \n",
    "John и Kira  \n",
    "Peter и Liza  \n",
    "Richard и Trisha\n",
    "\n",
    "boys = ['Peter', 'Alex', 'John', 'Arthur', 'Richard', 'Michael']\n",
    "girls = ['Kate', 'Liza', 'Kira', 'Emma', 'Trisha']\n",
    "\n",
    "Результат:\n",
    "Внимание, кто-то может остаться без пары!\"\"\"\n",
    "\n",
    "boys = ['Peter', 'Alex', 'John', 'Arthur', 'Richard']\n",
    "girls = ['Kate', 'Liza', 'Kira', 'Emma', 'Trisha']\n",
    "if len(boys)!=len(girls):\n",
    "    print('кто-то может остаться без пары!')\n",
    "else:\n",
    "    print('Идеальные пары')\n",
    "    couples = zip(sorted(boys), sorted(girls))\n",
    "    for i in couples:\n",
    "        print(i[0],' & ', i[1])\n",
    "    \n",
    "    "
   ]
  },
  {
   "cell_type": "code",
   "execution_count": 1,
   "metadata": {},
   "outputs": [
    {
     "name": "stdout",
     "output_type": "stream",
     "text": [
      "Thailand 23.9\n",
      "Germany 13.7\n",
      "Russia 3.7\n",
      "Poland 11.9\n"
     ]
    }
   ],
   "source": [
    "\n",
    "\"\"\"\"Задание 4\n",
    "\n",
    "У нас есть список, содержащий информацию о среднедневной температуре в Фаренгейтах \n",
    "за произвольный период по странам (структура данных в примере).\n",
    "Необходимо написать код, который рассчитает среднюю температуру за период в Цельсиях(!) для каждой страны.\n",
    "\n",
    "Пример работы программы:\n",
    "\n",
    "countries_temperature = [\n",
    "    ['Thailand', [75.2, 77, 78.8, 73.4, 68, 75.2, 77]],\n",
    "    ['Germany', [57.2, 55.4, 59, 59, 53.6]],\n",
    "    ['Russia', [35.6, 37.4, 39.2, 41, 42.8, 39.2, 35.6]],\n",
    "    ['Poland', [50, 50, 53.6, 57.2, 55.4, 55.4]]\n",
    "]\n",
    "\n",
    "Результат:\n",
    "\n",
    "Средняя температура в странах:\n",
    "Thailand  -  23.9 С\n",
    "Germany  -  13.8 С\n",
    "Russia  -  3.7 С\n",
    "Poland  -  12.0 С\"\"\"\n",
    "\n",
    "countries_temperature = [\n",
    " ['Thailand', [75.2, 77, 78.8, 73.4, 68, 75.2, 77]],\n",
    " ['Germany', [57.2, 55.4, 59, 59, 53.6, 55.4, 57.2]],\n",
    " ['Russia', [35.6, 37.4, 39.2, 41, 42.8, 39.2, 35.6]],\n",
    " ['Poland', [50, 50, 53.6, 57.2, 55.4, 55.4, 51.8]],\n",
    "]\n",
    "for i in countries_temperature:\n",
    "    print(i[0],round((sum(i[1])/7-32)/1.8,1))\n"
   ]
  }
 ],
 "metadata": {
  "kernelspec": {
   "display_name": "Python 3",
   "language": "python",
   "name": "python3"
  },
  "language_info": {
   "codemirror_mode": {
    "name": "ipython",
    "version": 3
   },
   "file_extension": ".py",
   "mimetype": "text/x-python",
   "name": "python",
   "nbconvert_exporter": "python",
   "pygments_lexer": "ipython3",
   "version": "3.7.6"
  }
 },
 "nbformat": 4,
 "nbformat_minor": 4
}
