{
 "cells": [
  {
   "cell_type": "code",
   "execution_count": 16,
   "metadata": {},
   "outputs": [],
   "source": [
    "import pandas as pd"
   ]
  },
  {
   "cell_type": "markdown",
   "metadata": {},
   "source": [
    "Скачайте с сайта https://grouplens.org/datasets/movielens/ датасет любого размера. Определите какому фильму было выставлено больше всего оценок 5.0."
   ]
  },
  {
   "cell_type": "code",
   "execution_count": 116,
   "metadata": {},
   "outputs": [
    {
     "data": {
      "text/html": [
       "<div>\n",
       "<style scoped>\n",
       "    .dataframe tbody tr th:only-of-type {\n",
       "        vertical-align: middle;\n",
       "    }\n",
       "\n",
       "    .dataframe tbody tr th {\n",
       "        vertical-align: top;\n",
       "    }\n",
       "\n",
       "    .dataframe thead th {\n",
       "        text-align: right;\n",
       "    }\n",
       "</style>\n",
       "<table border=\"1\" class=\"dataframe\">\n",
       "  <thead>\n",
       "    <tr style=\"text-align: right;\">\n",
       "      <th></th>\n",
       "      <th>movieId</th>\n",
       "      <th>title</th>\n",
       "      <th>genres</th>\n",
       "    </tr>\n",
       "  </thead>\n",
       "  <tbody>\n",
       "    <tr>\n",
       "      <th>277</th>\n",
       "      <td>318</td>\n",
       "      <td>Shawshank Redemption, The (1994)</td>\n",
       "      <td>Crime|Drama</td>\n",
       "    </tr>\n",
       "  </tbody>\n",
       "</table>\n",
       "</div>"
      ],
      "text/plain": [
       "     movieId                             title       genres\n",
       "277      318  Shawshank Redemption, The (1994)  Crime|Drama"
      ]
     },
     "execution_count": 116,
     "metadata": {},
     "output_type": "execute_result"
    }
   ],
   "source": [
    "ratings = pd.read_csv(r'C:\\Users\\Анна\\Desktop\\netology\\ml-latest-small\\ratings.csv',',')\n",
    "movi = pd.read_csv(r'C:\\Users\\Анна\\Desktop\\netology\\ml-latest-small\\movies.csv',',')\n",
    "\n",
    "\n",
    "#отбираем фильмы с рейтингом 5.0\n",
    "max_r=ratings[ratings.rating == 5.0]\n",
    "# выводим айди фильма и кличество максимальных оценок\n",
    "new=max_r['movieId'].value_counts().idxmax()\n",
    "movi[movi.movieId.eq(new)]\n",
    "\n",
    "\n"
   ]
  },
  {
   "cell_type": "markdown",
   "metadata": {},
   "source": [
    "Задание 2\n",
    "По данным файла power.csv посчитайте суммарное потребление стран Прибалтики (Латвия, Литва и Эстония) категорий 4, 12 и 21 за период с 2005 по 2010 года. Не учитывайте в расчетах отрицательные значения quantity."
   ]
  },
  {
   "cell_type": "code",
   "execution_count": 130,
   "metadata": {},
   "outputs": [
    {
     "data": {
      "text/plain": [
       "240580.0"
      ]
     },
     "execution_count": 130,
     "metadata": {},
     "output_type": "execute_result"
    }
   ],
   "source": [
    "power = pd.read_csv(r'C:\\Users\\Анна\\Desktop\\netology\\10._Основы_pandas\\power.csv',',')\n",
    "power_new= power[(power.country.isin(['Latvia','Estonia','Lithuania'])) & (power.category.isin(['4', '12', '21'])) & (power.year >= 2005) & (power.year<=2010) & (power.quantity>0)]\n",
    "power_new.quantity.sum()"
   ]
  },
  {
   "cell_type": "markdown",
   "metadata": {},
   "source": [
    "Задание 3\n",
    "Выберите страницу любого сайта с табличными данными. Импортируйте таблицы в pandas dataframe."
   ]
  },
  {
   "cell_type": "code",
   "execution_count": 62,
   "metadata": {},
   "outputs": [
    {
     "data": {
      "text/plain": [
       "[        Дата*      Золото  Серебро     Платина    Палладий\n",
       " 0  25.09.2020  4 592,3200   551400  2 081,8300  5 520,9600\n",
       " 1  24.09.2020  4 635,0100   579200  2 096,4400  5 479,2300\n",
       " 2  23.09.2020  4 666,7300   595900  2 172,6200  5 559,0700\n",
       " 3  22.09.2020  4 720,4300   644400  2 261,3300  5 737,6600\n",
       " 4  19.09.2020  4 715,5000   652800  2 274,8300  5 659,3300\n",
       " 5  18.09.2020  4 680,6100   646600  2 299,0800  5 717,4900\n",
       " 6  17.09.2020  4 733,1700   659600  2 363,2100  5 721,3300\n",
       " 7  16.09.2020  4 746,6100   665900  2 332,7500  5 630,0300\n",
       " 8  15.09.2020  4 665,6700   645800  2 258,0100  5 582,5600]"
      ]
     },
     "execution_count": 62,
     "metadata": {},
     "output_type": "execute_result"
    }
   ],
   "source": [
    "page_url = 'https://www.cbr.ru/hd_base/metall/metall_base_new/'\n",
    "\n",
    "f = pd.read_html(page_url, attrs = {'class': 'data'}, encoding='utf-8')\n",
    "f"
   ]
  }
 ],
 "metadata": {
  "kernelspec": {
   "display_name": "Python 3",
   "language": "python",
   "name": "python3"
  },
  "language_info": {
   "codemirror_mode": {
    "name": "ipython",
    "version": 3
   },
   "file_extension": ".py",
   "mimetype": "text/x-python",
   "name": "python",
   "nbconvert_exporter": "python",
   "pygments_lexer": "ipython3",
   "version": "3.7.6"
  }
 },
 "nbformat": 4,
 "nbformat_minor": 4
}
