{
 "cells": [
  {
   "cell_type": "code",
   "execution_count": 1,
   "metadata": {},
   "outputs": [
    {
     "data": {
      "text/plain": [
       "True"
      ]
     },
     "execution_count": 1,
     "metadata": {},
     "output_type": "execute_result"
    }
   ],
   "source": [
    "long_phrase = 'Насколько проще было бы писать программы, если бы не заказчики'\n",
    "short_phrase = '640Кб должно хватить для любых задач. Билл Гейтс (по легенде)'\n",
    "len(long_phrase)>len(short_phrase)"
   ]
  },
  {
   "cell_type": "code",
   "execution_count": 30,
   "metadata": {},
   "outputs": [
    {
     "name": "stdout",
     "output_type": "stream",
     "text": [
      "Объем файла равен 213.68 Mb\n"
     ]
    }
   ],
   "source": [
    "a=0.208671875\n",
    "b=1024*a\n",
    "print(\"Объем файла равен\",b,\"Mb\")"
   ]
  },
  {
   "cell_type": "code",
   "execution_count": 48,
   "metadata": {},
   "outputs": [
    {
     "name": "stdout",
     "output_type": "stream",
     "text": [
      "Введите заработанную плату в месяц100000\n",
      "Введите сколько процентов уходит на ипотеку30\n",
      "Введите сколько процентов уходит на жизнь50\n",
      "Введите количество премий за год2\n",
      "На ипотеку было потрачено: 360000.0 рублей. Было накоплено:  340000.0 рублей\n"
     ]
    }
   ],
   "source": [
    "a=int(input('Введите заработанную плату в месяц'))\n",
    "\n",
    "b= int(input('Введите сколько процентов уходит на ипотеку'))/100\n",
    "\n",
    "c=int(input('Введите сколько процентов уходит на жизнь'))/100\n",
    "\n",
    "d=int(input('Введите количество премий за год'))\n",
    "\n",
    "i=a*b*12\n",
    "p=(a*d)/2\n",
    "o= a*12 -i-a*c*12\n",
    "\n",
    "print('На ипотеку было потрачено:', i, 'рублей. Было накоплено: ', p+o, 'рублей')\n"
   ]
  },
  {
   "cell_type": "code",
   "execution_count": 40,
   "metadata": {},
   "outputs": [
    {
     "name": "stdout",
     "output_type": "stream",
     "text": [
      "Введите месяц1\n",
      "Введите число1\n",
      "Козерог\n"
     ]
    }
   ],
   "source": [
    "m=int(input('Введите месяц'))\n",
    "c=int(input('Введите число'))\n",
    "if (m==3 and c>=21) or (m==4 and c<=20):\n",
    "    print('Овен')\n",
    "elif (m==4 and c>=21) or (m==5 and c<=20):\n",
    "    print('Телец')\n",
    "elif (m==5 and c>=21) or (m==6 and c<=21):\n",
    "    print('Близнецы')\n",
    "elif (m==6 and c>=22) or (m==7 and c<=22):\n",
    "    print('Рак')\n",
    "elif (m==7 and c>=23) or (m==8 and c<=23):\n",
    "    print('Лев')\n",
    "elif (m==8 and c>=24) or (m==9 and c<=23):\n",
    "    print('Дева')\n",
    "elif (m==9 and c>=24) or (m==10 and c<=23):\n",
    "    print('Весы')\n",
    "elif (m==10 and c>=24) or (m==11 and c<=22):\n",
    "    print('Скорпион')\n",
    "elif (m==11 and c>=23) or (m==12 and c<=21):\n",
    "    print('Стрелец')\n",
    "elif (m==12 and c>=22) or (m==1 and c<=20):\n",
    "    print('Козерог')\n",
    "elif (m==1 and c>=21) or (m==2 and c<=20):\n",
    "    print('Водолей')\n",
    "else:\n",
    "    print('Рыбы')"
   ]
  },
  {
   "cell_type": "code",
   "execution_count": null,
   "metadata": {},
   "outputs": [],
   "source": []
  }
 ],
 "metadata": {
  "kernelspec": {
   "display_name": "Python 3",
   "language": "python",
   "name": "python3"
  },
  "language_info": {
   "codemirror_mode": {
    "name": "ipython",
    "version": 3
   },
   "file_extension": ".py",
   "mimetype": "text/x-python",
   "name": "python",
   "nbconvert_exporter": "python",
   "pygments_lexer": "ipython3",
   "version": "3.7.6"
  }
 },
 "nbformat": 4,
 "nbformat_minor": 4
}
