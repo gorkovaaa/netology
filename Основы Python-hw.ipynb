{
 "cells": [
  {
   "cell_type": "code",
   "execution_count": 1,
   "metadata": {},
   "outputs": [
    {
     "name": "stdout",
     "output_type": "stream",
     "text": [
      "Введите фразу 1qdwsefrg\n",
      "Введите фразу 2efdrgthj\n",
      "Фразы равны\n"
     ]
    }
   ],
   "source": [
    "\"\"\"Даны 2 переменных, в которых хранятся строки произвольной длины: phrase_1 и phrase_2.\n",
    "Напишите код, который проверяет какая из этих строк длиннее.\"\"\"\n",
    "phrase1=input('Введите фразу 1')\n",
    "phrase2=input('Введите фразу 2')\n",
    "p=len(phrase1)\n",
    "ph=len(phrase2)\n",
    "if p>ph:\n",
    "    print ('Фраза 1 длиннее фразы 2')\n",
    "elif p<ph:\n",
    "    print('Фраза 2 длиннее фразы 1')\n",
    "else:\n",
    "    print('Фразы равны')\n"
   ]
  },
  {
   "cell_type": "code",
   "execution_count": 7,
   "metadata": {},
   "outputs": [
    {
     "name": "stdout",
     "output_type": "stream",
     "text": [
      "Введите год2012\n",
      "високосный\n"
     ]
    }
   ],
   "source": [
    "\"\"\"\"Дана переменная, в которой хранится четырехзначное число (год). \n",
    "Необходимо написать программу, которая выведет, является ли данный год високосным или обычным.\"\"\"\n",
    "year=int(input('Введите год'))\n",
    "if (year%4==0 and year%100!=0)or (year%100==0 and year%400==0):\n",
    "    print('високосный')\n",
    "else:\n",
    "    print('обычный год')"
   ]
  },
  {
   "cell_type": "code",
   "execution_count": 13,
   "metadata": {},
   "outputs": [
    {
     "name": "stdout",
     "output_type": "stream",
     "text": [
      "Введите месяц08\n",
      "Введите число23\n",
      "Лев\n"
     ]
    }
   ],
   "source": [
    "\"\"\"\"Необходимо написать программу, которая будет запрашивать у пользователя месяц и дату рождения \n",
    "и выводить соответствующий знак зодиака.\"\"\"\"\n",
    "m=int(input('Введите месяц'))\n",
    "c=int(input('Введите число'))\n",
    "if (m==3 and c>=21) or (m==4 and c<=20):\n",
    "    print('Овен')\n",
    "elif (m==4 and c>=21) or (m==5 and c<=20):\n",
    "    print('Телец')\n",
    "elif (m==5 and c>=21) or (m==6 and c<=21):\n",
    "    print('Близнецы')\n",
    "elif (m==6 and c>=22) or (m==7 and c<=22):\n",
    "    print('Рак')\n",
    "elif (m==7 and c>=23) or (m==8 and c<=23):\n",
    "    print('Лев')\n",
    "elif (m==8 and c>=24) or (m==9 and c<=23):\n",
    "    print('Дева')\n",
    "elif (m==9 and c>=24) or (m==10 and c<=23):\n",
    "    print('Весы')\n",
    "elif (m==10 and c>=24) or (m==11 and c<=22):\n",
    "    print('Скорпион')\n",
    "elif (m==11 and c>=23) or (m==12 and c<=21):\n",
    "    print('Стрелец')\n",
    "elif (m==12 and c>=22) or (m==1 and c<=20):\n",
    "    print('Козерог')\n",
    "elif (m==1 and c>=21) or (m==2 and c<=20):\n",
    "    print('Водолей')\n",
    "else:\n",
    "    print('Рыбы')"
   ]
  },
  {
   "cell_type": "code",
   "execution_count": 12,
   "metadata": {},
   "outputs": [
    {
     "name": "stdout",
     "output_type": "stream",
     "text": [
      "Введите ширину45\n",
      "Введите длину205\n",
      "Введите высоту45\n",
      "Упаковка для лыж\n"
     ]
    }
   ],
   "source": [
    "\n",
    "\n",
    "w=int(input('Введите ширину'))\n",
    "l=int(input('Введите длину'))\n",
    "h=int(input('Введите высоту'))\n",
    "\n",
    "if w<15 and l<15 and h<15:\n",
    "    print('Коробка №1')\n",
    "elif (w <=15 and w>=50) or (l<=15 and l>=50) or (h<=15 and h>=50):\n",
    "    print(\"Коробка №2\")\n",
    "elif l>200:\n",
    "    print('Упаковка для лыж')\n",
    "else:\n",
    "    print('Стандартная коробка №3')\n"
   ]
  }
 ],
 "metadata": {
  "kernelspec": {
   "display_name": "Python 3",
   "language": "python",
   "name": "python3"
  },
  "language_info": {
   "codemirror_mode": {
    "name": "ipython",
    "version": 3
   },
   "file_extension": ".py",
   "mimetype": "text/x-python",
   "name": "python",
   "nbconvert_exporter": "python",
   "pygments_lexer": "ipython3",
   "version": "3.7.6"
  }
 },
 "nbformat": 4,
 "nbformat_minor": 4
}
